{
  "nbformat": 4,
  "nbformat_minor": 0,
  "metadata": {
    "colab": {
      "name": "Fish Classification and Segmentation.ipynb",
      "provenance": [],
      "authorship_tag": "ABX9TyNq3bJbWNrZx6aHTQzyrAsW",
      "include_colab_link": true
    },
    "kernelspec": {
      "name": "python3",
      "display_name": "Python 3"
    },
    "language_info": {
      "name": "python"
    }
  },
  "cells": [
    {
      "cell_type": "markdown",
      "metadata": {
        "id": "view-in-github",
        "colab_type": "text"
      },
      "source": [
        "<a href=\"https://colab.research.google.com/github/markgicharu/Fish-Classification-Segmentation/blob/dev-branch/Fish_Classification_and_Segmentation.ipynb\" target=\"_parent\"><img src=\"https://colab.research.google.com/assets/colab-badge.svg\" alt=\"Open In Colab\"/></a>"
      ]
    },
    {
      "cell_type": "markdown",
      "metadata": {
        "id": "P1SbH__QNYOX"
      },
      "source": [
        "### Mount Drive\n"
      ]
    },
    {
      "cell_type": "code",
      "metadata": {
        "colab": {
          "base_uri": "https://localhost:8080/"
        },
        "id": "zETi47lmNJPM",
        "outputId": "8fc9d987-76ab-4489-aee7-1a8412bcca16"
      },
      "source": [
        "# mount drive for reusability\n",
        "from google.colab import drive\n",
        "drive.mount(\"drive\")"
      ],
      "execution_count": 2,
      "outputs": [
        {
          "output_type": "stream",
          "text": [
            "Mounted at drive\n"
          ],
          "name": "stdout"
        }
      ]
    },
    {
      "cell_type": "markdown",
      "metadata": {
        "id": "bnM-I_xaOTUq"
      },
      "source": [
        "### Import Dataset"
      ]
    },
    {
      "cell_type": "code",
      "metadata": {
        "colab": {
          "base_uri": "https://localhost:8080/"
        },
        "id": "9gwMpXO4Lvdy",
        "outputId": "2320156c-fe2f-46d9-8a5d-6d57519bdfec"
      },
      "source": [
        "# when needed to download data from website\n",
        "# you can ignore this if data is already in drive\n",
        "\n",
        "# !wget https://groups.inf.ed.ac.uk/f4k/GROUNDTRUTH/RECOG/Archive/fishRecognition_GT.tar"
      ],
      "execution_count": 1,
      "outputs": [
        {
          "output_type": "stream",
          "text": [
            "--2021-07-06 09:50:18--  https://groups.inf.ed.ac.uk/f4k/GROUNDTRUTH/RECOG/Archive/fishRecognition_GT.tar\n",
            "Resolving groups.inf.ed.ac.uk (groups.inf.ed.ac.uk)... 129.215.202.26\n",
            "Connecting to groups.inf.ed.ac.uk (groups.inf.ed.ac.uk)|129.215.202.26|:443... connected.\n",
            "HTTP request sent, awaiting response... 200 OK\n",
            "Length: 510912000 (487M) [application/x-tar]\n",
            "Saving to: ‘fishRecognition_GT.tar’\n",
            "\n",
            "fishRecognition_GT. 100%[===================>] 487.24M   555KB/s    in 12m 51s \n",
            "\n",
            "2021-07-06 10:03:11 (647 KB/s) - ‘fishRecognition_GT.tar’ saved [510912000/510912000]\n",
            "\n"
          ],
          "name": "stdout"
        }
      ]
    },
    {
      "cell_type": "markdown",
      "metadata": {
        "id": "BEDJVCHNWayT"
      },
      "source": [
        "### GET DATASET"
      ]
    },
    {
      "cell_type": "code",
      "metadata": {
        "id": "hDRuGX02L2fv"
      },
      "source": [
        "#copy tar to drive\n",
        "#%cp fishRecognition_GT.tar /content/drive/MyDrive/DATASETS/PUBLIC_DATA/FISH_RECOGNITION/"
      ],
      "execution_count": 3,
      "outputs": []
    },
    {
      "cell_type": "code",
      "metadata": {
        "id": "h0xuM6sGTZiL"
      },
      "source": [
        "# copy tar file from drive\n",
        "%cp -r /content/drive/MyDrive/DATASETS/PUBLIC_DATA/FISH_RECOGNITION/fishRecognition_GT.tar  fishRecognition_GT.tar"
      ],
      "execution_count": null,
      "outputs": []
    },
    {
      "cell_type": "code",
      "metadata": {
        "colab": {
          "base_uri": "https://localhost:8080/"
        },
        "id": "PRg6vLcDT_du",
        "outputId": "ae5ec68e-f331-4109-d2d6-a5ba029bddf6"
      },
      "source": [
        "# unzip tar file and remove tarfile to save colab drive space\n",
        "!tar -xf /content/fishRecognition_GT.tar\n"
      ],
      "execution_count": 4,
      "outputs": [
        {
          "output_type": "stream",
          "text": [
            "tar: A lone zero block at 997875\n"
          ],
          "name": "stdout"
        }
      ]
    },
    {
      "cell_type": "code",
      "metadata": {
        "id": "L8HUWYbyUbMy"
      },
      "source": [
        "# remove tarfile to save space\n",
        "!rm /content/fishRecognition_GT.tar"
      ],
      "execution_count": 5,
      "outputs": []
    },
    {
      "cell_type": "code",
      "metadata": {
        "id": "6F2dBt0KUnaY"
      },
      "source": [
        ""
      ],
      "execution_count": null,
      "outputs": []
    },
    {
      "cell_type": "markdown",
      "metadata": {
        "id": "dvJL7EinWww4"
      },
      "source": [
        "### IMPORT LIBRARIES"
      ]
    },
    {
      "cell_type": "code",
      "metadata": {
        "id": "XofFA_kkWyUP"
      },
      "source": [
        ""
      ],
      "execution_count": null,
      "outputs": []
    }
  ]
}